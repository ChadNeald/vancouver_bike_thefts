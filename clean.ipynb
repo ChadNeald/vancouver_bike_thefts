{
 "cells": [
  {
   "cell_type": "markdown",
   "id": "63d0e6fc-1761-4bb1-a872-e31267108c3e",
   "metadata": {},
   "source": [
    "# Vancouver Crime - Clean\n",
    "##### Author: Chad Neald\n",
    "##### Date: October 4, 2024"
   ]
  },
  {
   "cell_type": "markdown",
   "id": "387dfcae-125e-47ef-95f4-d6bcfeeba6c1",
   "metadata": {},
   "source": [
    "### Objective\n",
    "\n",
    "The objective of this notebook is to clean the downloaded Vancouver crime dataset."
   ]
  },
  {
   "cell_type": "code",
   "execution_count": 1,
   "id": "7e700596-06ca-4ccd-9dbe-eb556ec8ada2",
   "metadata": {},
   "outputs": [],
   "source": [
    "import datetime\n",
    "import re\n",
    "from os import getcwd, path\n",
    "\n",
    "import altair as alt\n",
    "import ipywidgets as widgets\n",
    "import pandas as pd\n",
    "import pydeck as pdk\n",
    "import utm\n",
    "from IPython.display import display\n",
    "from janitor import clean_names"
   ]
  },
  {
   "cell_type": "code",
   "execution_count": 2,
   "id": "70bc849f-34f3-4586-ab9e-9ff6aa2a2bf3",
   "metadata": {},
   "outputs": [],
   "source": [
    "alt.renderers.enable(\"mimetype\");"
   ]
  },
  {
   "cell_type": "markdown",
   "id": "fc5914df-975d-4d07-a842-e0f9643aef50",
   "metadata": {},
   "source": [
    "### Check Working Directory"
   ]
  },
  {
   "cell_type": "code",
   "execution_count": 3,
   "id": "f58824d1-c8ec-4af3-ab78-dfec8e796917",
   "metadata": {},
   "outputs": [],
   "source": [
    "working_directory = getcwd()\n",
    "directory_basename = path.basename(working_directory)\n",
    "\n",
    "assert directory_basename == \"vancouver_bike_thefts\", \"Incorrect working directory.\""
   ]
  },
  {
   "cell_type": "markdown",
   "id": "94fbc693-559d-4494-a538-280de1f4c973",
   "metadata": {},
   "source": [
    "### Load in the Data\n",
    "\n",
    "The raw data was downloaded from here: https://geodash.vpd.ca/opendata/#"
   ]
  },
  {
   "cell_type": "code",
   "execution_count": 4,
   "id": "e35b5463-af11-4292-b2cd-ec5bd0e8c01e",
   "metadata": {},
   "outputs": [],
   "source": [
    "raw_dir = path.join(\"data\", \"raw\")"
   ]
  },
  {
   "cell_type": "code",
   "execution_count": 5,
   "id": "750ae4c3-5c90-407f-8cd8-ed3242b9158b",
   "metadata": {},
   "outputs": [],
   "source": [
    "df = pd.read_csv(path.join(raw_dir, \"crimedata_csv_AllNeighbourhoods_AllYears.csv\"))"
   ]
  },
  {
   "cell_type": "code",
   "execution_count": 6,
   "id": "58349cd3-c8c3-48bf-83a1-61e8ea25a1dc",
   "metadata": {},
   "outputs": [
    {
     "name": "stdout",
     "output_type": "stream",
     "text": [
      "df length: 895823\n"
     ]
    }
   ],
   "source": [
    "print(f\"df length: {len(df)}\")"
   ]
  },
  {
   "cell_type": "code",
   "execution_count": 7,
   "id": "5da2c761-396c-4c86-8b93-77720a0fd4ab",
   "metadata": {},
   "outputs": [
    {
     "data": {
      "text/html": [
       "<div>\n",
       "<style scoped>\n",
       "    .dataframe tbody tr th:only-of-type {\n",
       "        vertical-align: middle;\n",
       "    }\n",
       "\n",
       "    .dataframe tbody tr th {\n",
       "        vertical-align: top;\n",
       "    }\n",
       "\n",
       "    .dataframe thead th {\n",
       "        text-align: right;\n",
       "    }\n",
       "</style>\n",
       "<table border=\"1\" class=\"dataframe\">\n",
       "  <thead>\n",
       "    <tr style=\"text-align: right;\">\n",
       "      <th></th>\n",
       "      <th>TYPE</th>\n",
       "      <th>YEAR</th>\n",
       "      <th>MONTH</th>\n",
       "      <th>DAY</th>\n",
       "      <th>HOUR</th>\n",
       "      <th>MINUTE</th>\n",
       "      <th>HUNDRED_BLOCK</th>\n",
       "      <th>NEIGHBOURHOOD</th>\n",
       "      <th>X</th>\n",
       "      <th>Y</th>\n",
       "    </tr>\n",
       "  </thead>\n",
       "  <tbody>\n",
       "    <tr>\n",
       "      <th>0</th>\n",
       "      <td>Offence Against a Person</td>\n",
       "      <td>2020</td>\n",
       "      <td>7</td>\n",
       "      <td>31</td>\n",
       "      <td>0</td>\n",
       "      <td>0</td>\n",
       "      <td>OFFSET TO PROTECT PRIVACY</td>\n",
       "      <td>Kitsilano</td>\n",
       "      <td>0.0</td>\n",
       "      <td>0.0</td>\n",
       "    </tr>\n",
       "  </tbody>\n",
       "</table>\n",
       "</div>"
      ],
      "text/plain": [
       "                       TYPE  YEAR  MONTH  DAY  HOUR  MINUTE  \\\n",
       "0  Offence Against a Person  2020      7   31     0       0   \n",
       "\n",
       "               HUNDRED_BLOCK NEIGHBOURHOOD    X    Y  \n",
       "0  OFFSET TO PROTECT PRIVACY     Kitsilano  0.0  0.0  "
      ]
     },
     "execution_count": 7,
     "metadata": {},
     "output_type": "execute_result"
    }
   ],
   "source": [
    "df.head(1)"
   ]
  },
  {
   "cell_type": "markdown",
   "id": "6521824b-b77a-41ed-9533-812f20a84308",
   "metadata": {},
   "source": [
    "### Clean the Column Names"
   ]
  },
  {
   "cell_type": "code",
   "execution_count": 8,
   "id": "3b18d390-10b4-4918-877e-203e7e26f66c",
   "metadata": {},
   "outputs": [],
   "source": [
    "df = clean_names(df)"
   ]
  },
  {
   "cell_type": "code",
   "execution_count": 9,
   "id": "fd8ca334-e23a-4665-bd91-8bf4d8850e4d",
   "metadata": {},
   "outputs": [],
   "source": [
    "df = df.rename(columns={\"year\": \"date_year\", \"month\": \"date_month\"})"
   ]
  },
  {
   "cell_type": "markdown",
   "id": "6d4558f2-46f2-4b71-8c54-747c956ef409",
   "metadata": {},
   "source": [
    "### Remove Rows"
   ]
  },
  {
   "cell_type": "markdown",
   "id": "8afb31ae-1c07-4fc9-93ff-2c061e5da758",
   "metadata": {},
   "source": [
    "Remove any rows without an explicit x and y location."
   ]
  },
  {
   "cell_type": "code",
   "execution_count": 10,
   "id": "0c3cfac7-ef28-4dc8-9c9b-c3f1cbac9f38",
   "metadata": {},
   "outputs": [
    {
     "data": {
      "text/plain": [
       "type\n",
       "Offence Against a Person                                80341\n",
       "Homicide                                                  327\n",
       "Vehicle Collision or Pedestrian Struck (with Injury)        3\n",
       "Name: count, dtype: int64"
      ]
     },
     "execution_count": 10,
     "metadata": {},
     "output_type": "execute_result"
    }
   ],
   "source": [
    "df.query(\"x == 0 and y == 0\").type.value_counts()"
   ]
  },
  {
   "cell_type": "code",
   "execution_count": 11,
   "id": "0a2ed3f2-3f86-40e7-90cb-f703c2dea3af",
   "metadata": {},
   "outputs": [
    {
     "data": {
      "text/plain": [
       "815152"
      ]
     },
     "execution_count": 11,
     "metadata": {},
     "output_type": "execute_result"
    }
   ],
   "source": [
    "df = df.query(\"x != 0 or y != 0\")\n",
    "len(df)"
   ]
  },
  {
   "cell_type": "markdown",
   "id": "563616e1-9d99-4b8d-99e7-20491d87747f",
   "metadata": {},
   "source": [
    "In the data description file provided with the raw data, it states that incidents without a known location\n",
    "were set to a default value of \"X NK_LOC ST\" for the HUNDRED_BLOCK column.\n",
    "\n",
    "Let's exclude these data points since one of the goals of this project is to visualize where the \n",
    "incidents are occurring in the city. \n",
    "If an exact or rough location isn't known, then the data isn't very useful for this purpose."
   ]
  },
  {
   "cell_type": "code",
   "execution_count": 12,
   "id": "53417af8-2e59-42df-a8c9-ee101f4282f6",
   "metadata": {},
   "outputs": [],
   "source": [
    "df = df.query(\"hundred_block != 'X NK_LOC ST'\")"
   ]
  },
  {
   "cell_type": "markdown",
   "id": "620ee2fb-b1f4-4af2-8165-2caf7dcf38d0",
   "metadata": {},
   "source": [
    "Remove rows with a NaN value in either the X or the Y column."
   ]
  },
  {
   "cell_type": "code",
   "execution_count": 13,
   "id": "3aae6b03-5bf8-46a2-a15c-e6de836b2c09",
   "metadata": {},
   "outputs": [
    {
     "data": {
      "text/plain": [
       "type              0\n",
       "date_year         0\n",
       "date_month        0\n",
       "day               0\n",
       "hour              0\n",
       "minute            0\n",
       "hundred_block    12\n",
       "neighbourhood    43\n",
       "x                29\n",
       "y                29\n",
       "dtype: int64"
      ]
     },
     "execution_count": 13,
     "metadata": {},
     "output_type": "execute_result"
    }
   ],
   "source": [
    "df.isna().sum()"
   ]
  },
  {
   "cell_type": "code",
   "execution_count": 14,
   "id": "44c343d0-b5d4-48b5-b360-80ca73d0fafa",
   "metadata": {},
   "outputs": [],
   "source": [
    "df = df.dropna(subset=[\"x\", \"y\"]).reset_index(drop=True)"
   ]
  },
  {
   "cell_type": "markdown",
   "id": "88de18b8-a859-4b0a-a0e8-8a5dc23ce0b1",
   "metadata": {},
   "source": [
    "### Convert the X and Y Columns"
   ]
  },
  {
   "cell_type": "markdown",
   "id": "69fdff27-7385-4d65-9a0a-7777d914dc58",
   "metadata": {},
   "source": [
    "The X and Y columns are in UTM Zone 10.\n",
    "Let's convert these to latitude and longitude."
   ]
  },
  {
   "cell_type": "code",
   "execution_count": 15,
   "id": "c3404b1e-311e-4f47-9e11-1b20335e0e99",
   "metadata": {},
   "outputs": [],
   "source": [
    "df[\"latitude\"] = df.apply(\n",
    "    lambda row: utm.to_latlon(row[\"x\"], row[\"y\"], 10, northern=True)[0], axis=1\n",
    ")\n",
    "\n",
    "df[\"longitude\"] = df.apply(\n",
    "    lambda row: utm.to_latlon(row[\"x\"], row[\"y\"], 10, northern=True)[1], axis=1\n",
    ")"
   ]
  },
  {
   "cell_type": "markdown",
   "id": "d27183ab-78e6-4e1b-971c-aa8250953a3e",
   "metadata": {},
   "source": [
    "### Filter By Type - Theft of Bicycle\n",
    "\n",
    "Let's filter the data to only include \"Theft of Bicycle\" incidents.\n",
    "By keeping only these specific data points, the visualization will be less crowded\n",
    "and more focused."
   ]
  },
  {
   "cell_type": "code",
   "execution_count": 16,
   "id": "4c295ca0-2d5c-409d-8e33-1bb1cc713cf2",
   "metadata": {},
   "outputs": [
    {
     "data": {
      "text/plain": [
       "array(['Other Theft', 'Theft from Vehicle', 'Theft of Bicycle',\n",
       "       'Theft of Vehicle',\n",
       "       'Vehicle Collision or Pedestrian Struck (with Fatality)',\n",
       "       'Vehicle Collision or Pedestrian Struck (with Injury)',\n",
       "       'Break and Enter Commercial', 'Break and Enter Residential/Other',\n",
       "       'Mischief'], dtype=object)"
      ]
     },
     "execution_count": 16,
     "metadata": {},
     "output_type": "execute_result"
    }
   ],
   "source": [
    "df.type.unique()"
   ]
  },
  {
   "cell_type": "code",
   "execution_count": 17,
   "id": "9d9b7537-acbe-4fdf-a3ea-2c83c01bf4e7",
   "metadata": {},
   "outputs": [],
   "source": [
    "df_bicycle = df.query(\"type == 'Theft of Bicycle'\").reset_index(drop=True)"
   ]
  },
  {
   "cell_type": "code",
   "execution_count": 18,
   "id": "02e0c9ef-9164-478c-ad7a-6a70c75d3bbd",
   "metadata": {},
   "outputs": [
    {
     "data": {
      "text/plain": [
       "37955"
      ]
     },
     "execution_count": 18,
     "metadata": {},
     "output_type": "execute_result"
    }
   ],
   "source": [
    "len(df_bicycle)"
   ]
  },
  {
   "cell_type": "markdown",
   "id": "ae909458-4599-4b52-aea9-f4599bd770cb",
   "metadata": {},
   "source": [
    "### Preliminary Visualization"
   ]
  },
  {
   "cell_type": "code",
   "execution_count": 19,
   "id": "27358f7e-da7f-4d9f-b704-ac1c5bf53e20",
   "metadata": {},
   "outputs": [
    {
     "data": {
      "text/html": [
       "<div>\n",
       "<style scoped>\n",
       "    .dataframe tbody tr th:only-of-type {\n",
       "        vertical-align: middle;\n",
       "    }\n",
       "\n",
       "    .dataframe tbody tr th {\n",
       "        vertical-align: top;\n",
       "    }\n",
       "\n",
       "    .dataframe thead th {\n",
       "        text-align: right;\n",
       "    }\n",
       "</style>\n",
       "<table border=\"1\" class=\"dataframe\">\n",
       "  <thead>\n",
       "    <tr style=\"text-align: right;\">\n",
       "      <th></th>\n",
       "      <th>type</th>\n",
       "      <th>date_year</th>\n",
       "      <th>date_month</th>\n",
       "      <th>day</th>\n",
       "      <th>hour</th>\n",
       "      <th>minute</th>\n",
       "      <th>hundred_block</th>\n",
       "      <th>neighbourhood</th>\n",
       "      <th>x</th>\n",
       "      <th>y</th>\n",
       "      <th>latitude</th>\n",
       "      <th>longitude</th>\n",
       "    </tr>\n",
       "  </thead>\n",
       "  <tbody>\n",
       "    <tr>\n",
       "      <th>0</th>\n",
       "      <td>Theft of Bicycle</td>\n",
       "      <td>2023</td>\n",
       "      <td>10</td>\n",
       "      <td>23</td>\n",
       "      <td>0</td>\n",
       "      <td>0</td>\n",
       "      <td>10XX ALBERNI ST</td>\n",
       "      <td>West End</td>\n",
       "      <td>491058.8169</td>\n",
       "      <td>5.459123e+06</td>\n",
       "      <td>49.284794</td>\n",
       "      <td>-123.122946</td>\n",
       "    </tr>\n",
       "  </tbody>\n",
       "</table>\n",
       "</div>"
      ],
      "text/plain": [
       "               type  date_year  date_month  day  hour  minute  \\\n",
       "0  Theft of Bicycle       2023          10   23     0       0   \n",
       "\n",
       "     hundred_block neighbourhood            x             y   latitude  \\\n",
       "0  10XX ALBERNI ST      West End  491058.8169  5.459123e+06  49.284794   \n",
       "\n",
       "    longitude  \n",
       "0 -123.122946  "
      ]
     },
     "execution_count": 19,
     "metadata": {},
     "output_type": "execute_result"
    }
   ],
   "source": [
    "df_bicycle.head(1)"
   ]
  },
  {
   "cell_type": "code",
   "execution_count": 20,
   "id": "a3c6c890-e19c-4bcf-9a40-38f9a2f3b5dd",
   "metadata": {},
   "outputs": [
    {
     "data": {
      "text/html": [
       "<div>\n",
       "<style scoped>\n",
       "    .dataframe tbody tr th:only-of-type {\n",
       "        vertical-align: middle;\n",
       "    }\n",
       "\n",
       "    .dataframe tbody tr th {\n",
       "        vertical-align: top;\n",
       "    }\n",
       "\n",
       "    .dataframe thead th {\n",
       "        text-align: right;\n",
       "    }\n",
       "</style>\n",
       "<table border=\"1\" class=\"dataframe\">\n",
       "  <thead>\n",
       "    <tr style=\"text-align: right;\">\n",
       "      <th></th>\n",
       "      <th>date_year</th>\n",
       "      <th>number_of_incidents</th>\n",
       "    </tr>\n",
       "  </thead>\n",
       "  <tbody>\n",
       "    <tr>\n",
       "      <th>0</th>\n",
       "      <td>2003</td>\n",
       "      <td>1409</td>\n",
       "    </tr>\n",
       "  </tbody>\n",
       "</table>\n",
       "</div>"
      ],
      "text/plain": [
       "   date_year  number_of_incidents\n",
       "0       2003                 1409"
      ]
     },
     "execution_count": 20,
     "metadata": {},
     "output_type": "execute_result"
    }
   ],
   "source": [
    "temp_df = df_bicycle.groupby(\"date_year\").size().reset_index(name=\"number_of_incidents\")\n",
    "temp_df.head(1)"
   ]
  },
  {
   "cell_type": "code",
   "execution_count": 21,
   "id": "0d80b779-80d3-4735-be63-adbb07f064aa",
   "metadata": {},
   "outputs": [
    {
     "data": {
      "application/vnd.vegalite.v5+json": {
       "$schema": "https://vega.github.io/schema/vega-lite/v5.20.1.json",
       "config": {
        "view": {
         "continuousHeight": 300,
         "continuousWidth": 300
        }
       },
       "data": {
        "name": "data-cc78162efd0512cc347c56a36c606baa"
       },
       "datasets": {
        "data-cc78162efd0512cc347c56a36c606baa": [
         {
          "date_year": 2003,
          "number_of_incidents": 1409
         },
         {
          "date_year": 2004,
          "number_of_incidents": 1216
         },
         {
          "date_year": 2005,
          "number_of_incidents": 1402
         },
         {
          "date_year": 2006,
          "number_of_incidents": 1456
         },
         {
          "date_year": 2007,
          "number_of_incidents": 1197
         },
         {
          "date_year": 2008,
          "number_of_incidents": 1167
         },
         {
          "date_year": 2009,
          "number_of_incidents": 1632
         },
         {
          "date_year": 2010,
          "number_of_incidents": 1663
         },
         {
          "date_year": 2011,
          "number_of_incidents": 1515
         },
         {
          "date_year": 2012,
          "number_of_incidents": 1813
         },
         {
          "date_year": 2013,
          "number_of_incidents": 2032
         },
         {
          "date_year": 2014,
          "number_of_incidents": 2450
         },
         {
          "date_year": 2015,
          "number_of_incidents": 3057
         },
         {
          "date_year": 2016,
          "number_of_incidents": 2631
         },
         {
          "date_year": 2017,
          "number_of_incidents": 2196
         },
         {
          "date_year": 2018,
          "number_of_incidents": 2161
         },
         {
          "date_year": 2019,
          "number_of_incidents": 2209
         },
         {
          "date_year": 2020,
          "number_of_incidents": 1951
         },
         {
          "date_year": 2021,
          "number_of_incidents": 1454
         },
         {
          "date_year": 2022,
          "number_of_incidents": 1524
         },
         {
          "date_year": 2023,
          "number_of_incidents": 1048
         },
         {
          "date_year": 2024,
          "number_of_incidents": 772
         }
        ]
       },
       "encoding": {
        "x": {
         "field": "date_year",
         "type": "ordinal"
        },
        "y": {
         "field": "number_of_incidents",
         "type": "quantitative"
        }
       },
       "mark": {
        "type": "line"
       }
      },
      "image/png": "[encoded data removed]",
      "text/plain": [
       "<VegaLite 5 object>\n",
       "\n",
       "If you see this message, it means the renderer has not been properly enabled\n",
       "for the frontend that you are using. For more information, see\n",
       "https://altair-viz.github.io/user_guide/display_frontends.html#troubleshooting\n"
      ]
     },
     "execution_count": 21,
     "metadata": {},
     "output_type": "execute_result"
    }
   ],
   "source": [
    "alt.Chart(temp_df).mark_line().encode(\n",
    "    x=alt.X(\"date_year:O\"), y=alt.Y(\"number_of_incidents\")\n",
    ")"
   ]
  },
  {
   "cell_type": "markdown",
   "id": "a14708ac-4ec4-4c1f-a194-b0984881bde9",
   "metadata": {},
   "source": [
    "### Export the Data"
   ]
  },
  {
   "cell_type": "code",
   "execution_count": 22,
   "id": "bce7fba8-503d-44fd-a04f-b3a149ba7cc0",
   "metadata": {},
   "outputs": [],
   "source": [
    "cleaned_dir = path.join(\"data\", \"cleaned\")\n",
    "\n",
    "# now = str(datetime.datetime.now()).replace(\":\", \"-\").replace(\" \", \"_\").replace(\".\", \"-\")\n",
    "# output_file = \"vancouver_bicycle_thefts_cleaned_\" + now + \".csv\"\n",
    "\n",
    "output_file = \"vancouver_bicycle_thefts_cleaned.csv\"\n",
    "\n",
    "df_bicycle[[\"longitude\", \"latitude\", \"date_year\"]].to_csv(\n",
    "    path.join(cleaned_dir, output_file),\n",
    "    index=False,\n",
    "    encoding=\"utf-8-sig\",\n",
    ")"
   ]
  },
  {
   "cell_type": "code",
   "execution_count": null,
   "id": "a4e6d387-9a08-4b29-b05e-57675494b109",
   "metadata": {},
   "outputs": [],
   "source": []
  }
 ],
 "metadata": {
  "kernelspec": {
   "display_name": "Python [conda env:vancouver_bike_thefts]",
   "language": "python",
   "name": "conda-env-vancouver_bike_thefts-py"
  },
  "language_info": {
   "codemirror_mode": {
    "name": "ipython",
    "version": 3
   },
   "file_extension": ".py",
   "mimetype": "text/x-python",
   "name": "python",
   "nbconvert_exporter": "python",
   "pygments_lexer": "ipython3",
   "version": "3.12.7"
  }
 },
 "nbformat": 4,
 "nbformat_minor": 5
}
